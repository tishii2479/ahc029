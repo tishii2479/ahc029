{
 "cells": [
  {
   "cell_type": "code",
   "execution_count": 20,
   "metadata": {},
   "outputs": [],
   "source": [
    "import sys\n",
    "sys.path.append(\"../\")\n",
    "\n",
    "import subprocess\n",
    "import datetime\n",
    "from joblib import Parallel, delayed\n",
    "\n",
    "import json\n",
    "import os\n",
    "\n",
    "import matplotlib.pyplot as plt\n",
    "from tqdm import tqdm\n",
    "import optuna\n",
    "\n",
    "from run import *"
   ]
  },
  {
   "cell_type": "code",
   "execution_count": 21,
   "metadata": {},
   "outputs": [],
   "source": [
    "import contextlib\n",
    "from typing import Optional\n",
    "import joblib\n",
    "from tqdm.auto import tqdm\n",
    "\n",
    "@contextlib.contextmanager\n",
    "def tqdm_joblib(total: Optional[int] = None, **kwargs):\n",
    "\n",
    "    pbar = tqdm(total=total, miniters=1, smoothing=0, **kwargs)\n",
    "\n",
    "    class TqdmBatchCompletionCallback(joblib.parallel.BatchCompletionCallBack):\n",
    "        def __call__(self, *args, **kwargs):\n",
    "            pbar.update(n=self.batch_size)\n",
    "            return super().__call__(*args, **kwargs)\n",
    "\n",
    "    old_batch_callback = joblib.parallel.BatchCompletionCallBack\n",
    "    joblib.parallel.BatchCompletionCallBack = TqdmBatchCompletionCallback\n",
    "\n",
    "    try:\n",
    "        yield pbar\n",
    "    finally:\n",
    "        joblib.parallel.BatchCompletionCallBack = old_batch_callback\n",
    "        pbar.close()"
   ]
  },
  {
   "cell_type": "code",
   "execution_count": 29,
   "metadata": {},
   "outputs": [
    {
     "name": "stderr",
     "output_type": "stream",
     "text": [
      "warning: unused import: `crate::simulator::*`\n",
      " --> src/solver.rs:3:5\n",
      "  |\n",
      "3 | use crate::simulator::*;\n",
      "  |     ^^^^^^^^^^^^^^^^^^^\n",
      "  |\n",
      "  = note: `#[warn(unused_imports)]` on by default\n",
      "\n",
      "warning: function `generate_project` is never used\n",
      " --> src/simulator.rs:7:4\n",
      "  |\n",
      "7 | fn generate_project(rng: &mut ChaCha20Rng) -> Project {\n",
      "  |    ^^^^^^^^^^^^^^^^\n",
      "  |\n",
      "  = note: `#[warn(dead_code)]` on by default\n",
      "\n",
      "warning: function `generate_card` is never used\n",
      "  --> src/simulator.rs:17:4\n",
      "   |\n",
      "17 | fn generate_card(rng: &mut ChaCha20Rng, m: usize, x: &Vec<i64>) -> (Card, i64) {\n",
      "   |    ^^^^^^^^^^^^^\n",
      "\n",
      "warning: associated function `new` is never used\n",
      "  --> src/simulator.rs:59:12\n",
      "   |\n",
      "58 | impl MockInteractor {\n",
      "   | ------------------- associated function in this implementation\n",
      "59 |     pub fn new(\n",
      "   |            ^^^\n",
      "\n",
      "warning: function `montecarlo` is never used\n",
      "   --> src/simulator.rs:165:8\n",
      "    |\n",
      "165 | pub fn montecarlo(\n",
      "    |        ^^^^^^^^^^\n",
      "\n",
      "warning: `ahc029` (bin \"ahc029\") generated 5 warnings (run `cargo fix --bin \"ahc029\"` to apply 1 suggestion)\n",
      "    Finished release [optimized] target(s) in 0.02s\n",
      "\u001b[32m[I 2023-12-26 18:32:54,534]\u001b[0m A new study created in RDB with name: study-work-single-beta-01\u001b[0m\n"
     ]
    },
    {
     "name": "stdout",
     "output_type": "stream",
     "text": [
      "start optimize\n"
     ]
    },
    {
     "data": {
      "application/vnd.jupyter.widget-view+json": {
       "model_id": "aedfd59987a94993808543ddba1738bd",
       "version_major": 2,
       "version_minor": 0
      },
      "text/plain": [
       "  0%|          | 0/30 [00:00<?, ?it/s]"
      ]
     },
     "metadata": {},
     "output_type": "display_data"
    },
    {
     "name": "stderr",
     "output_type": "stream",
     "text": [
      "7117.56s - pydevd: Sending message related to process being replaced timed-out after 5 seconds\n",
      "7117.57s - pydevd: Sending message related to process being replaced timed-out after 5 seconds\n",
      "7117.59s - pydevd: Sending message related to process being replaced timed-out after 5 seconds\n",
      "7117.61s - pydevd: Sending message related to process being replaced timed-out after 5 seconds\n",
      "7117.62s - pydevd: Sending message related to process being replaced timed-out after 5 seconds\n",
      "7117.63s - pydevd: Sending message related to process being replaced timed-out after 5 seconds\n",
      "7117.64s - pydevd: Sending message related to process being replaced timed-out after 5 seconds\n",
      "7117.65s - pydevd: Sending message related to process being replaced timed-out after 5 seconds\n"
     ]
    },
    {
     "name": "stdout",
     "output_type": "stream",
     "text": [
      "\u001b[32m[I 2023-12-26 18:33:15,253]\u001b[0m Trial 0 finished with value: 1.0300310603687945 and parameters: {'work_single_beta': 2.0}. Best is trial 0 with value: 1.0300310603687945.\u001b[0m\n",
      "\u001b[32m[I 2023-12-26 18:33:29,741]\u001b[0m Trial 1 finished with value: 0.9108238807503 and parameters: {'work_single_beta': 1.58147796152504}. Best is trial 0 with value: 1.0300310603687945.\u001b[0m\n",
      "\u001b[32m[I 2023-12-26 18:33:44,210]\u001b[0m Trial 2 finished with value: 1.0289490499200271 and parameters: {'work_single_beta': 2.929862848031764}. Best is trial 0 with value: 1.0300310603687945.\u001b[0m\n",
      "\u001b[32m[I 2023-12-26 18:33:58,571]\u001b[0m Trial 3 finished with value: 0.9434852544074332 and parameters: {'work_single_beta': 1.6579686106992417}. Best is trial 0 with value: 1.0300310603687945.\u001b[0m\n",
      "\u001b[32m[I 2023-12-26 18:34:12,940]\u001b[0m Trial 4 finished with value: 0.9425772776554077 and parameters: {'work_single_beta': 1.8436043140701397}. Best is trial 0 with value: 1.0300310603687945.\u001b[0m\n",
      "\u001b[32m[I 2023-12-26 18:34:27,269]\u001b[0m Trial 5 finished with value: 0.9460552378106517 and parameters: {'work_single_beta': 1.8080397091658447}. Best is trial 0 with value: 1.0300310603687945.\u001b[0m\n",
      "\u001b[32m[I 2023-12-26 18:34:41,665]\u001b[0m Trial 6 finished with value: 1.0148039368658612 and parameters: {'work_single_beta': 2.0519062038596942}. Best is trial 0 with value: 1.0300310603687945.\u001b[0m\n",
      "\u001b[32m[I 2023-12-26 18:34:56,101]\u001b[0m Trial 7 finished with value: 0.9935552325572823 and parameters: {'work_single_beta': 2.6013086750967824}. Best is trial 0 with value: 1.0300310603687945.\u001b[0m\n",
      "\u001b[32m[I 2023-12-26 18:35:10,973]\u001b[0m Trial 8 finished with value: 0.9577415396057243 and parameters: {'work_single_beta': 1.9074184947675037}. Best is trial 0 with value: 1.0300310603687945.\u001b[0m\n",
      "\u001b[32m[I 2023-12-26 18:35:25,613]\u001b[0m Trial 9 finished with value: 0.4679023177475485 and parameters: {'work_single_beta': 1.1241962297668944}. Best is trial 0 with value: 1.0300310603687945.\u001b[0m\n",
      "\u001b[32m[I 2023-12-26 18:35:40,030]\u001b[0m Trial 10 finished with value: 1.0175448685436288 and parameters: {'work_single_beta': 2.3548222258949116}. Best is trial 0 with value: 1.0300310603687945.\u001b[0m\n",
      "\u001b[32m[I 2023-12-26 18:35:54,349]\u001b[0m Trial 11 finished with value: 1.0116148156043105 and parameters: {'work_single_beta': 2.7686770338708886}. Best is trial 0 with value: 1.0300310603687945.\u001b[0m\n",
      "\u001b[32m[I 2023-12-26 18:36:08,749]\u001b[0m Trial 12 finished with value: 1.0033768098103877 and parameters: {'work_single_beta': 2.9668105660577897}. Best is trial 0 with value: 1.0300310603687945.\u001b[0m\n",
      "\u001b[32m[I 2023-12-26 18:36:23,132]\u001b[0m Trial 13 finished with value: 1.0194504558280282 and parameters: {'work_single_beta': 2.3550290208784252}. Best is trial 0 with value: 1.0300310603687945.\u001b[0m\n",
      "\u001b[32m[I 2023-12-26 18:36:37,498]\u001b[0m Trial 14 finished with value: 1.0167087850334706 and parameters: {'work_single_beta': 2.2351797191300804}. Best is trial 0 with value: 1.0300310603687945.\u001b[0m\n",
      "\u001b[32m[I 2023-12-26 18:36:52,134]\u001b[0m Trial 15 finished with value: 1.0063349194482756 and parameters: {'work_single_beta': 2.57954186177627}. Best is trial 0 with value: 1.0300310603687945.\u001b[0m\n",
      "\u001b[32m[I 2023-12-26 18:37:06,645]\u001b[0m Trial 16 finished with value: 0.6741020717923354 and parameters: {'work_single_beta': 1.3211663456626765}. Best is trial 0 with value: 1.0300310603687945.\u001b[0m\n",
      "\u001b[32m[I 2023-12-26 18:37:21,164]\u001b[0m Trial 17 finished with value: 1.0070688644861738 and parameters: {'work_single_beta': 2.1244221325072705}. Best is trial 0 with value: 1.0300310603687945.\u001b[0m\n",
      "\u001b[32m[I 2023-12-26 18:37:35,705]\u001b[0m Trial 18 finished with value: 1.032992857322053 and parameters: {'work_single_beta': 2.898910615818517}. Best is trial 18 with value: 1.032992857322053.\u001b[0m\n",
      "\u001b[32m[I 2023-12-26 18:37:50,296]\u001b[0m Trial 19 finished with value: 0.9951173371746576 and parameters: {'work_single_beta': 2.6039392659252267}. Best is trial 18 with value: 1.032992857322053.\u001b[0m\n",
      "\u001b[32m[I 2023-12-26 18:38:04,799]\u001b[0m Trial 20 finished with value: 0.86010186261066 and parameters: {'work_single_beta': 1.4956183605378572}. Best is trial 18 with value: 1.032992857322053.\u001b[0m\n",
      "\u001b[32m[I 2023-12-26 18:38:19,370]\u001b[0m Trial 21 finished with value: 0.9962556650534061 and parameters: {'work_single_beta': 2.995828350524938}. Best is trial 18 with value: 1.032992857322053.\u001b[0m\n",
      "\u001b[32m[I 2023-12-26 18:38:33,986]\u001b[0m Trial 22 finished with value: 1.0160864981164262 and parameters: {'work_single_beta': 2.864738260675329}. Best is trial 18 with value: 1.032992857322053.\u001b[0m\n",
      "\u001b[32m[I 2023-12-26 18:38:48,571]\u001b[0m Trial 23 finished with value: 1.0167440097991947 and parameters: {'work_single_beta': 2.7403669245206745}. Best is trial 18 with value: 1.032992857322053.\u001b[0m\n",
      "\u001b[32m[I 2023-12-26 18:39:03,191]\u001b[0m Trial 24 finished with value: 1.0226923655443882 and parameters: {'work_single_beta': 2.45804715501562}. Best is trial 18 with value: 1.032992857322053.\u001b[0m\n",
      "\u001b[32m[I 2023-12-26 18:39:17,809]\u001b[0m Trial 25 finished with value: 0.9922969401315126 and parameters: {'work_single_beta': 2.8010998530677935}. Best is trial 18 with value: 1.032992857322053.\u001b[0m\n",
      "\u001b[32m[I 2023-12-26 18:39:32,442]\u001b[0m Trial 26 finished with value: 1.019570020813551 and parameters: {'work_single_beta': 2.2613842245616533}. Best is trial 18 with value: 1.032992857322053.\u001b[0m\n",
      "\u001b[32m[I 2023-12-26 18:39:47,057]\u001b[0m Trial 27 finished with value: 1.0054740660956207 and parameters: {'work_single_beta': 1.9609191128152008}. Best is trial 18 with value: 1.032992857322053.\u001b[0m\n",
      "\u001b[32m[I 2023-12-26 18:40:01,769]\u001b[0m Trial 28 finished with value: 0.9933687975353892 and parameters: {'work_single_beta': 2.6449090735864633}. Best is trial 18 with value: 1.032992857322053.\u001b[0m\n",
      "\u001b[32m[I 2023-12-26 18:40:16,689]\u001b[0m Trial 29 finished with value: 0.957328452343244 and parameters: {'work_single_beta': 1.7369115378282427}. Best is trial 18 with value: 1.032992857322053.\u001b[0m\n"
     ]
    },
    {
     "data": {
      "text/plain": [
       "{'work_single_beta': 2.898910615818517}"
      ]
     },
     "execution_count": 29,
     "metadata": {},
     "output_type": "execute_result"
    }
   ],
   "source": [
    "case_num = 1000\n",
    "\n",
    "cases = [\n",
    "    (f\"../tools/in/{seed:04}.txt\", f\"../tools/out/{seed:04}.txt\")\n",
    "    for seed in range(case_num)\n",
    "]\n",
    "\n",
    "def objective(trial: optuna.trial.Trial) -> float:\n",
    "    overflow_alpha = 2.016646721749814\n",
    "    overflow_alpha_all = 2.7694849713061416\n",
    "    overflow_alpha_all_refill = 0.5531191229327318\n",
    "    overflow_alpha_refill = 0.25378716369770815\n",
    "    # overflow_alpha_refill = trial.suggest_float(\"overflow_alpha_refill\", low=0.1, high=0.9)\n",
    "    # overflow_alpha = trial.suggest_float(\"overflow_alpha\", low=1., high=3.)\n",
    "    # overflow_alpha_all_refill = trial.suggest_float(\"overflow_alpha_all_refill\", low=0.1, high=0.9)\n",
    "    # overflow_alpha_all = trial.suggest_float(\"overflow_alpha_all\", low=1., high=3.)\n",
    "\n",
    "    cancel_alpha = 3.9025157664873658\n",
    "    cancel_alpha_all = 5.034673414949709\n",
    "    cancel_alpha_all_refill = 1.070299470579473\n",
    "    cancel_alpha_refill = 1.000910439816072\n",
    "    # cancel_alpha_refill = trial.suggest_float(\"cancel_alpha_refill\", low=1., high=2.)\n",
    "    # cancel_alpha = trial.suggest_float(\"cancel_alpha\", low=2., high=8.)\n",
    "    # cancel_alpha_all_refill = trial.suggest_float(\"cancel_alpha_all_refill\", low=1., high=2.)\n",
    "    # cancel_alpha_all = trial.suggest_float(\"cancel_alpha_all\", low=2., high=8.)\n",
    "\n",
    "    # invest_limit = trial.suggest_int(\"invest_limit\", low=800, high=950)\n",
    "    # cancel_limit = trial.suggest_int(\"cancel_limit\", low=950, high=990)\n",
    "    # invest_cost = trial.suggest_int(\"invest_cost\", low=400, high=600)\n",
    "    work_single_beta = trial.suggest_float(\"work_single_beta\", low=1.1, high=3.)\n",
    "    cancel_limit = 979\n",
    "    invest_cost = 510\n",
    "    invest_limit = 863\n",
    "    # work_single_beta = 2.\n",
    "\n",
    "    solver_path = \"../target/release/ahc029\"\n",
    "    args = f\"{overflow_alpha_refill} {overflow_alpha} {cancel_alpha_refill} {cancel_alpha} {invest_limit} {cancel_limit} {invest_cost} {overflow_alpha_all_refill} {overflow_alpha_all} {cancel_alpha_all_refill} {cancel_alpha_all} {work_single_beta}\"\n",
    "    solver_cmd = f\"../tools/target/release/tester {solver_path} {args}\"\n",
    "    solver_version = f\"optuna-{args}\"\n",
    "    runner = Runner(\n",
    "        Input,\n",
    "        Result,\n",
    "        Param,\n",
    "        solver_cmd=solver_cmd,\n",
    "        solver_version=solver_version,\n",
    "        database_csv=\"../log/database.csv\",\n",
    "        log_file=\"../log/a.log\",\n",
    "        verbose=0\n",
    "    )\n",
    "    runner.run(\n",
    "        cases=cases,\n",
    "        verbose=0\n",
    "    )\n",
    "    score_df = runner.evaluate_relative_score(\n",
    "        solver_version=solver_version,\n",
    "        benchmark_solver_version=\"tuned2\",\n",
    "    )\n",
    "    return score_df.relative_score.median()\n",
    "\n",
    "subprocess.run(\"cargo build --release --manifest-path=../Cargo.toml\", shell=True)\n",
    "\n",
    "study = optuna.create_study(\n",
    "    direction = \"maximize\",\n",
    "    storage=f\"sqlite:///ahc029.db\",\n",
    "    study_name=f\"study-work-single-beta-01\",\n",
    "    load_if_exists=True\n",
    ")\n",
    "print(\"start optimize\")\n",
    "study.optimize(objective, n_trials=30, show_progress_bar=True)\n",
    "study.best_params"
   ]
  },
  {
   "cell_type": "code",
   "execution_count": 32,
   "metadata": {},
   "outputs": [
    {
     "data": {
      "application/vnd.plotly.v1+json": {
       "config": {
        "plotlyServerURL": "https://plot.ly"
       },
       "data": [
        {
         "marker": {
          "color": [
           0,
           1,
           2,
           3,
           4,
           5,
           6,
           7,
           8,
           9,
           10,
           11,
           12,
           13,
           14,
           15,
           16,
           17,
           18,
           19,
           20,
           21,
           22,
           23,
           24,
           25,
           26,
           27,
           28,
           29
          ],
          "colorbar": {
           "title": {
            "text": "Trial"
           },
           "x": 1,
           "xpad": 40
          },
          "colorscale": [
           [
            0,
            "rgb(247,251,255)"
           ],
           [
            0.125,
            "rgb(222,235,247)"
           ],
           [
            0.25,
            "rgb(198,219,239)"
           ],
           [
            0.375,
            "rgb(158,202,225)"
           ],
           [
            0.5,
            "rgb(107,174,214)"
           ],
           [
            0.625,
            "rgb(66,146,198)"
           ],
           [
            0.75,
            "rgb(33,113,181)"
           ],
           [
            0.875,
            "rgb(8,81,156)"
           ],
           [
            1,
            "rgb(8,48,107)"
           ]
          ],
          "line": {
           "color": "Grey",
           "width": 0.5
          }
         },
         "mode": "markers",
         "showlegend": false,
         "type": "scatter",
         "x": [
          2,
          1.58147796152504,
          2.929862848031764,
          1.6579686106992417,
          1.8436043140701397,
          1.8080397091658447,
          2.0519062038596942,
          2.6013086750967824,
          1.9074184947675037,
          1.1241962297668944,
          2.3548222258949116,
          2.7686770338708886,
          2.9668105660577897,
          2.3550290208784252,
          2.2351797191300804,
          2.57954186177627,
          1.3211663456626765,
          2.1244221325072705,
          2.898910615818517,
          2.6039392659252267,
          1.4956183605378572,
          2.995828350524938,
          2.864738260675329,
          2.7403669245206745,
          2.45804715501562,
          2.8010998530677935,
          2.2613842245616533,
          1.9609191128152008,
          2.6449090735864633,
          1.7369115378282427
         ],
         "y": [
          1.0300310603687945,
          0.9108238807503,
          1.0289490499200271,
          0.9434852544074332,
          0.9425772776554077,
          0.9460552378106517,
          1.0148039368658612,
          0.9935552325572823,
          0.9577415396057243,
          0.4679023177475485,
          1.0175448685436288,
          1.0116148156043105,
          1.0033768098103877,
          1.0194504558280282,
          1.0167087850334706,
          1.0063349194482756,
          0.6741020717923354,
          1.0070688644861738,
          1.032992857322053,
          0.9951173371746576,
          0.86010186261066,
          0.9962556650534061,
          1.0160864981164262,
          1.0167440097991947,
          1.0226923655443882,
          0.9922969401315126,
          1.019570020813551,
          1.0054740660956207,
          0.9933687975353892,
          0.957328452343244
         ]
        }
       ],
       "layout": {
        "template": {
         "data": {
          "bar": [
           {
            "error_x": {
             "color": "#2a3f5f"
            },
            "error_y": {
             "color": "#2a3f5f"
            },
            "marker": {
             "line": {
              "color": "#E5ECF6",
              "width": 0.5
             },
             "pattern": {
              "fillmode": "overlay",
              "size": 10,
              "solidity": 0.2
             }
            },
            "type": "bar"
           }
          ],
          "barpolar": [
           {
            "marker": {
             "line": {
              "color": "#E5ECF6",
              "width": 0.5
             },
             "pattern": {
              "fillmode": "overlay",
              "size": 10,
              "solidity": 0.2
             }
            },
            "type": "barpolar"
           }
          ],
          "carpet": [
           {
            "aaxis": {
             "endlinecolor": "#2a3f5f",
             "gridcolor": "white",
             "linecolor": "white",
             "minorgridcolor": "white",
             "startlinecolor": "#2a3f5f"
            },
            "baxis": {
             "endlinecolor": "#2a3f5f",
             "gridcolor": "white",
             "linecolor": "white",
             "minorgridcolor": "white",
             "startlinecolor": "#2a3f5f"
            },
            "type": "carpet"
           }
          ],
          "choropleth": [
           {
            "colorbar": {
             "outlinewidth": 0,
             "ticks": ""
            },
            "type": "choropleth"
           }
          ],
          "contour": [
           {
            "colorbar": {
             "outlinewidth": 0,
             "ticks": ""
            },
            "colorscale": [
             [
              0,
              "#0d0887"
             ],
             [
              0.1111111111111111,
              "#46039f"
             ],
             [
              0.2222222222222222,
              "#7201a8"
             ],
             [
              0.3333333333333333,
              "#9c179e"
             ],
             [
              0.4444444444444444,
              "#bd3786"
             ],
             [
              0.5555555555555556,
              "#d8576b"
             ],
             [
              0.6666666666666666,
              "#ed7953"
             ],
             [
              0.7777777777777778,
              "#fb9f3a"
             ],
             [
              0.8888888888888888,
              "#fdca26"
             ],
             [
              1,
              "#f0f921"
             ]
            ],
            "type": "contour"
           }
          ],
          "contourcarpet": [
           {
            "colorbar": {
             "outlinewidth": 0,
             "ticks": ""
            },
            "type": "contourcarpet"
           }
          ],
          "heatmap": [
           {
            "colorbar": {
             "outlinewidth": 0,
             "ticks": ""
            },
            "colorscale": [
             [
              0,
              "#0d0887"
             ],
             [
              0.1111111111111111,
              "#46039f"
             ],
             [
              0.2222222222222222,
              "#7201a8"
             ],
             [
              0.3333333333333333,
              "#9c179e"
             ],
             [
              0.4444444444444444,
              "#bd3786"
             ],
             [
              0.5555555555555556,
              "#d8576b"
             ],
             [
              0.6666666666666666,
              "#ed7953"
             ],
             [
              0.7777777777777778,
              "#fb9f3a"
             ],
             [
              0.8888888888888888,
              "#fdca26"
             ],
             [
              1,
              "#f0f921"
             ]
            ],
            "type": "heatmap"
           }
          ],
          "heatmapgl": [
           {
            "colorbar": {
             "outlinewidth": 0,
             "ticks": ""
            },
            "colorscale": [
             [
              0,
              "#0d0887"
             ],
             [
              0.1111111111111111,
              "#46039f"
             ],
             [
              0.2222222222222222,
              "#7201a8"
             ],
             [
              0.3333333333333333,
              "#9c179e"
             ],
             [
              0.4444444444444444,
              "#bd3786"
             ],
             [
              0.5555555555555556,
              "#d8576b"
             ],
             [
              0.6666666666666666,
              "#ed7953"
             ],
             [
              0.7777777777777778,
              "#fb9f3a"
             ],
             [
              0.8888888888888888,
              "#fdca26"
             ],
             [
              1,
              "#f0f921"
             ]
            ],
            "type": "heatmapgl"
           }
          ],
          "histogram": [
           {
            "marker": {
             "pattern": {
              "fillmode": "overlay",
              "size": 10,
              "solidity": 0.2
             }
            },
            "type": "histogram"
           }
          ],
          "histogram2d": [
           {
            "colorbar": {
             "outlinewidth": 0,
             "ticks": ""
            },
            "colorscale": [
             [
              0,
              "#0d0887"
             ],
             [
              0.1111111111111111,
              "#46039f"
             ],
             [
              0.2222222222222222,
              "#7201a8"
             ],
             [
              0.3333333333333333,
              "#9c179e"
             ],
             [
              0.4444444444444444,
              "#bd3786"
             ],
             [
              0.5555555555555556,
              "#d8576b"
             ],
             [
              0.6666666666666666,
              "#ed7953"
             ],
             [
              0.7777777777777778,
              "#fb9f3a"
             ],
             [
              0.8888888888888888,
              "#fdca26"
             ],
             [
              1,
              "#f0f921"
             ]
            ],
            "type": "histogram2d"
           }
          ],
          "histogram2dcontour": [
           {
            "colorbar": {
             "outlinewidth": 0,
             "ticks": ""
            },
            "colorscale": [
             [
              0,
              "#0d0887"
             ],
             [
              0.1111111111111111,
              "#46039f"
             ],
             [
              0.2222222222222222,
              "#7201a8"
             ],
             [
              0.3333333333333333,
              "#9c179e"
             ],
             [
              0.4444444444444444,
              "#bd3786"
             ],
             [
              0.5555555555555556,
              "#d8576b"
             ],
             [
              0.6666666666666666,
              "#ed7953"
             ],
             [
              0.7777777777777778,
              "#fb9f3a"
             ],
             [
              0.8888888888888888,
              "#fdca26"
             ],
             [
              1,
              "#f0f921"
             ]
            ],
            "type": "histogram2dcontour"
           }
          ],
          "mesh3d": [
           {
            "colorbar": {
             "outlinewidth": 0,
             "ticks": ""
            },
            "type": "mesh3d"
           }
          ],
          "parcoords": [
           {
            "line": {
             "colorbar": {
              "outlinewidth": 0,
              "ticks": ""
             }
            },
            "type": "parcoords"
           }
          ],
          "pie": [
           {
            "automargin": true,
            "type": "pie"
           }
          ],
          "scatter": [
           {
            "fillpattern": {
             "fillmode": "overlay",
             "size": 10,
             "solidity": 0.2
            },
            "type": "scatter"
           }
          ],
          "scatter3d": [
           {
            "line": {
             "colorbar": {
              "outlinewidth": 0,
              "ticks": ""
             }
            },
            "marker": {
             "colorbar": {
              "outlinewidth": 0,
              "ticks": ""
             }
            },
            "type": "scatter3d"
           }
          ],
          "scattercarpet": [
           {
            "marker": {
             "colorbar": {
              "outlinewidth": 0,
              "ticks": ""
             }
            },
            "type": "scattercarpet"
           }
          ],
          "scattergeo": [
           {
            "marker": {
             "colorbar": {
              "outlinewidth": 0,
              "ticks": ""
             }
            },
            "type": "scattergeo"
           }
          ],
          "scattergl": [
           {
            "marker": {
             "colorbar": {
              "outlinewidth": 0,
              "ticks": ""
             }
            },
            "type": "scattergl"
           }
          ],
          "scattermapbox": [
           {
            "marker": {
             "colorbar": {
              "outlinewidth": 0,
              "ticks": ""
             }
            },
            "type": "scattermapbox"
           }
          ],
          "scatterpolar": [
           {
            "marker": {
             "colorbar": {
              "outlinewidth": 0,
              "ticks": ""
             }
            },
            "type": "scatterpolar"
           }
          ],
          "scatterpolargl": [
           {
            "marker": {
             "colorbar": {
              "outlinewidth": 0,
              "ticks": ""
             }
            },
            "type": "scatterpolargl"
           }
          ],
          "scatterternary": [
           {
            "marker": {
             "colorbar": {
              "outlinewidth": 0,
              "ticks": ""
             }
            },
            "type": "scatterternary"
           }
          ],
          "surface": [
           {
            "colorbar": {
             "outlinewidth": 0,
             "ticks": ""
            },
            "colorscale": [
             [
              0,
              "#0d0887"
             ],
             [
              0.1111111111111111,
              "#46039f"
             ],
             [
              0.2222222222222222,
              "#7201a8"
             ],
             [
              0.3333333333333333,
              "#9c179e"
             ],
             [
              0.4444444444444444,
              "#bd3786"
             ],
             [
              0.5555555555555556,
              "#d8576b"
             ],
             [
              0.6666666666666666,
              "#ed7953"
             ],
             [
              0.7777777777777778,
              "#fb9f3a"
             ],
             [
              0.8888888888888888,
              "#fdca26"
             ],
             [
              1,
              "#f0f921"
             ]
            ],
            "type": "surface"
           }
          ],
          "table": [
           {
            "cells": {
             "fill": {
              "color": "#EBF0F8"
             },
             "line": {
              "color": "white"
             }
            },
            "header": {
             "fill": {
              "color": "#C8D4E3"
             },
             "line": {
              "color": "white"
             }
            },
            "type": "table"
           }
          ]
         },
         "layout": {
          "annotationdefaults": {
           "arrowcolor": "#2a3f5f",
           "arrowhead": 0,
           "arrowwidth": 1
          },
          "autotypenumbers": "strict",
          "coloraxis": {
           "colorbar": {
            "outlinewidth": 0,
            "ticks": ""
           }
          },
          "colorscale": {
           "diverging": [
            [
             0,
             "#8e0152"
            ],
            [
             0.1,
             "#c51b7d"
            ],
            [
             0.2,
             "#de77ae"
            ],
            [
             0.3,
             "#f1b6da"
            ],
            [
             0.4,
             "#fde0ef"
            ],
            [
             0.5,
             "#f7f7f7"
            ],
            [
             0.6,
             "#e6f5d0"
            ],
            [
             0.7,
             "#b8e186"
            ],
            [
             0.8,
             "#7fbc41"
            ],
            [
             0.9,
             "#4d9221"
            ],
            [
             1,
             "#276419"
            ]
           ],
           "sequential": [
            [
             0,
             "#0d0887"
            ],
            [
             0.1111111111111111,
             "#46039f"
            ],
            [
             0.2222222222222222,
             "#7201a8"
            ],
            [
             0.3333333333333333,
             "#9c179e"
            ],
            [
             0.4444444444444444,
             "#bd3786"
            ],
            [
             0.5555555555555556,
             "#d8576b"
            ],
            [
             0.6666666666666666,
             "#ed7953"
            ],
            [
             0.7777777777777778,
             "#fb9f3a"
            ],
            [
             0.8888888888888888,
             "#fdca26"
            ],
            [
             1,
             "#f0f921"
            ]
           ],
           "sequentialminus": [
            [
             0,
             "#0d0887"
            ],
            [
             0.1111111111111111,
             "#46039f"
            ],
            [
             0.2222222222222222,
             "#7201a8"
            ],
            [
             0.3333333333333333,
             "#9c179e"
            ],
            [
             0.4444444444444444,
             "#bd3786"
            ],
            [
             0.5555555555555556,
             "#d8576b"
            ],
            [
             0.6666666666666666,
             "#ed7953"
            ],
            [
             0.7777777777777778,
             "#fb9f3a"
            ],
            [
             0.8888888888888888,
             "#fdca26"
            ],
            [
             1,
             "#f0f921"
            ]
           ]
          },
          "colorway": [
           "#636efa",
           "#EF553B",
           "#00cc96",
           "#ab63fa",
           "#FFA15A",
           "#19d3f3",
           "#FF6692",
           "#B6E880",
           "#FF97FF",
           "#FECB52"
          ],
          "font": {
           "color": "#2a3f5f"
          },
          "geo": {
           "bgcolor": "white",
           "lakecolor": "white",
           "landcolor": "#E5ECF6",
           "showlakes": true,
           "showland": true,
           "subunitcolor": "white"
          },
          "hoverlabel": {
           "align": "left"
          },
          "hovermode": "closest",
          "mapbox": {
           "style": "light"
          },
          "paper_bgcolor": "white",
          "plot_bgcolor": "#E5ECF6",
          "polar": {
           "angularaxis": {
            "gridcolor": "white",
            "linecolor": "white",
            "ticks": ""
           },
           "bgcolor": "#E5ECF6",
           "radialaxis": {
            "gridcolor": "white",
            "linecolor": "white",
            "ticks": ""
           }
          },
          "scene": {
           "xaxis": {
            "backgroundcolor": "#E5ECF6",
            "gridcolor": "white",
            "gridwidth": 2,
            "linecolor": "white",
            "showbackground": true,
            "ticks": "",
            "zerolinecolor": "white"
           },
           "yaxis": {
            "backgroundcolor": "#E5ECF6",
            "gridcolor": "white",
            "gridwidth": 2,
            "linecolor": "white",
            "showbackground": true,
            "ticks": "",
            "zerolinecolor": "white"
           },
           "zaxis": {
            "backgroundcolor": "#E5ECF6",
            "gridcolor": "white",
            "gridwidth": 2,
            "linecolor": "white",
            "showbackground": true,
            "ticks": "",
            "zerolinecolor": "white"
           }
          },
          "shapedefaults": {
           "line": {
            "color": "#2a3f5f"
           }
          },
          "ternary": {
           "aaxis": {
            "gridcolor": "white",
            "linecolor": "white",
            "ticks": ""
           },
           "baxis": {
            "gridcolor": "white",
            "linecolor": "white",
            "ticks": ""
           },
           "bgcolor": "#E5ECF6",
           "caxis": {
            "gridcolor": "white",
            "linecolor": "white",
            "ticks": ""
           }
          },
          "title": {
           "x": 0.05
          },
          "xaxis": {
           "automargin": true,
           "gridcolor": "white",
           "linecolor": "white",
           "ticks": "",
           "title": {
            "standoff": 15
           },
           "zerolinecolor": "white",
           "zerolinewidth": 2
          },
          "yaxis": {
           "automargin": true,
           "gridcolor": "white",
           "linecolor": "white",
           "ticks": "",
           "title": {
            "standoff": 15
           },
           "zerolinecolor": "white",
           "zerolinewidth": 2
          }
         }
        },
        "title": {
         "text": "Slice Plot"
        },
        "xaxis": {
         "title": {
          "text": "work_single_beta"
         }
        },
        "yaxis": {
         "title": {
          "text": "Objective Value"
         }
        }
       }
      }
     },
     "metadata": {},
     "output_type": "display_data"
    }
   ],
   "source": [
    "optuna.visualization.plot_slice(study)"
   ]
  },
  {
   "cell_type": "code",
   "execution_count": 31,
   "metadata": {},
   "outputs": [
    {
     "data": {
      "application/vnd.plotly.v1+json": {
       "config": {
        "plotlyServerURL": "https://plot.ly"
       },
       "data": [
        {
         "mode": "markers",
         "name": "Objective Value",
         "type": "scatter",
         "x": [
          0,
          1,
          2,
          3,
          4,
          5,
          6,
          7,
          8,
          9,
          10,
          11,
          12,
          13,
          14,
          15,
          16,
          17,
          18,
          19,
          20,
          21,
          22,
          23,
          24,
          25,
          26,
          27,
          28,
          29
         ],
         "y": [
          1.0300310603687945,
          0.9108238807503,
          1.0289490499200271,
          0.9434852544074332,
          0.9425772776554077,
          0.9460552378106517,
          1.0148039368658612,
          0.9935552325572823,
          0.9577415396057243,
          0.4679023177475485,
          1.0175448685436288,
          1.0116148156043105,
          1.0033768098103877,
          1.0194504558280282,
          1.0167087850334706,
          1.0063349194482756,
          0.6741020717923354,
          1.0070688644861738,
          1.032992857322053,
          0.9951173371746576,
          0.86010186261066,
          0.9962556650534061,
          1.0160864981164262,
          1.0167440097991947,
          1.0226923655443882,
          0.9922969401315126,
          1.019570020813551,
          1.0054740660956207,
          0.9933687975353892,
          0.957328452343244
         ]
        },
        {
         "name": "Best Value",
         "type": "scatter",
         "x": [
          0,
          1,
          2,
          3,
          4,
          5,
          6,
          7,
          8,
          9,
          10,
          11,
          12,
          13,
          14,
          15,
          16,
          17,
          18,
          19,
          20,
          21,
          22,
          23,
          24,
          25,
          26,
          27,
          28,
          29
         ],
         "y": [
          1.0300310603687945,
          1.0300310603687945,
          1.0300310603687945,
          1.0300310603687945,
          1.0300310603687945,
          1.0300310603687945,
          1.0300310603687945,
          1.0300310603687945,
          1.0300310603687945,
          1.0300310603687945,
          1.0300310603687945,
          1.0300310603687945,
          1.0300310603687945,
          1.0300310603687945,
          1.0300310603687945,
          1.0300310603687945,
          1.0300310603687945,
          1.0300310603687945,
          1.032992857322053,
          1.032992857322053,
          1.032992857322053,
          1.032992857322053,
          1.032992857322053,
          1.032992857322053,
          1.032992857322053,
          1.032992857322053,
          1.032992857322053,
          1.032992857322053,
          1.032992857322053,
          1.032992857322053
         ]
        }
       ],
       "layout": {
        "template": {
         "data": {
          "bar": [
           {
            "error_x": {
             "color": "#2a3f5f"
            },
            "error_y": {
             "color": "#2a3f5f"
            },
            "marker": {
             "line": {
              "color": "#E5ECF6",
              "width": 0.5
             },
             "pattern": {
              "fillmode": "overlay",
              "size": 10,
              "solidity": 0.2
             }
            },
            "type": "bar"
           }
          ],
          "barpolar": [
           {
            "marker": {
             "line": {
              "color": "#E5ECF6",
              "width": 0.5
             },
             "pattern": {
              "fillmode": "overlay",
              "size": 10,
              "solidity": 0.2
             }
            },
            "type": "barpolar"
           }
          ],
          "carpet": [
           {
            "aaxis": {
             "endlinecolor": "#2a3f5f",
             "gridcolor": "white",
             "linecolor": "white",
             "minorgridcolor": "white",
             "startlinecolor": "#2a3f5f"
            },
            "baxis": {
             "endlinecolor": "#2a3f5f",
             "gridcolor": "white",
             "linecolor": "white",
             "minorgridcolor": "white",
             "startlinecolor": "#2a3f5f"
            },
            "type": "carpet"
           }
          ],
          "choropleth": [
           {
            "colorbar": {
             "outlinewidth": 0,
             "ticks": ""
            },
            "type": "choropleth"
           }
          ],
          "contour": [
           {
            "colorbar": {
             "outlinewidth": 0,
             "ticks": ""
            },
            "colorscale": [
             [
              0,
              "#0d0887"
             ],
             [
              0.1111111111111111,
              "#46039f"
             ],
             [
              0.2222222222222222,
              "#7201a8"
             ],
             [
              0.3333333333333333,
              "#9c179e"
             ],
             [
              0.4444444444444444,
              "#bd3786"
             ],
             [
              0.5555555555555556,
              "#d8576b"
             ],
             [
              0.6666666666666666,
              "#ed7953"
             ],
             [
              0.7777777777777778,
              "#fb9f3a"
             ],
             [
              0.8888888888888888,
              "#fdca26"
             ],
             [
              1,
              "#f0f921"
             ]
            ],
            "type": "contour"
           }
          ],
          "contourcarpet": [
           {
            "colorbar": {
             "outlinewidth": 0,
             "ticks": ""
            },
            "type": "contourcarpet"
           }
          ],
          "heatmap": [
           {
            "colorbar": {
             "outlinewidth": 0,
             "ticks": ""
            },
            "colorscale": [
             [
              0,
              "#0d0887"
             ],
             [
              0.1111111111111111,
              "#46039f"
             ],
             [
              0.2222222222222222,
              "#7201a8"
             ],
             [
              0.3333333333333333,
              "#9c179e"
             ],
             [
              0.4444444444444444,
              "#bd3786"
             ],
             [
              0.5555555555555556,
              "#d8576b"
             ],
             [
              0.6666666666666666,
              "#ed7953"
             ],
             [
              0.7777777777777778,
              "#fb9f3a"
             ],
             [
              0.8888888888888888,
              "#fdca26"
             ],
             [
              1,
              "#f0f921"
             ]
            ],
            "type": "heatmap"
           }
          ],
          "heatmapgl": [
           {
            "colorbar": {
             "outlinewidth": 0,
             "ticks": ""
            },
            "colorscale": [
             [
              0,
              "#0d0887"
             ],
             [
              0.1111111111111111,
              "#46039f"
             ],
             [
              0.2222222222222222,
              "#7201a8"
             ],
             [
              0.3333333333333333,
              "#9c179e"
             ],
             [
              0.4444444444444444,
              "#bd3786"
             ],
             [
              0.5555555555555556,
              "#d8576b"
             ],
             [
              0.6666666666666666,
              "#ed7953"
             ],
             [
              0.7777777777777778,
              "#fb9f3a"
             ],
             [
              0.8888888888888888,
              "#fdca26"
             ],
             [
              1,
              "#f0f921"
             ]
            ],
            "type": "heatmapgl"
           }
          ],
          "histogram": [
           {
            "marker": {
             "pattern": {
              "fillmode": "overlay",
              "size": 10,
              "solidity": 0.2
             }
            },
            "type": "histogram"
           }
          ],
          "histogram2d": [
           {
            "colorbar": {
             "outlinewidth": 0,
             "ticks": ""
            },
            "colorscale": [
             [
              0,
              "#0d0887"
             ],
             [
              0.1111111111111111,
              "#46039f"
             ],
             [
              0.2222222222222222,
              "#7201a8"
             ],
             [
              0.3333333333333333,
              "#9c179e"
             ],
             [
              0.4444444444444444,
              "#bd3786"
             ],
             [
              0.5555555555555556,
              "#d8576b"
             ],
             [
              0.6666666666666666,
              "#ed7953"
             ],
             [
              0.7777777777777778,
              "#fb9f3a"
             ],
             [
              0.8888888888888888,
              "#fdca26"
             ],
             [
              1,
              "#f0f921"
             ]
            ],
            "type": "histogram2d"
           }
          ],
          "histogram2dcontour": [
           {
            "colorbar": {
             "outlinewidth": 0,
             "ticks": ""
            },
            "colorscale": [
             [
              0,
              "#0d0887"
             ],
             [
              0.1111111111111111,
              "#46039f"
             ],
             [
              0.2222222222222222,
              "#7201a8"
             ],
             [
              0.3333333333333333,
              "#9c179e"
             ],
             [
              0.4444444444444444,
              "#bd3786"
             ],
             [
              0.5555555555555556,
              "#d8576b"
             ],
             [
              0.6666666666666666,
              "#ed7953"
             ],
             [
              0.7777777777777778,
              "#fb9f3a"
             ],
             [
              0.8888888888888888,
              "#fdca26"
             ],
             [
              1,
              "#f0f921"
             ]
            ],
            "type": "histogram2dcontour"
           }
          ],
          "mesh3d": [
           {
            "colorbar": {
             "outlinewidth": 0,
             "ticks": ""
            },
            "type": "mesh3d"
           }
          ],
          "parcoords": [
           {
            "line": {
             "colorbar": {
              "outlinewidth": 0,
              "ticks": ""
             }
            },
            "type": "parcoords"
           }
          ],
          "pie": [
           {
            "automargin": true,
            "type": "pie"
           }
          ],
          "scatter": [
           {
            "fillpattern": {
             "fillmode": "overlay",
             "size": 10,
             "solidity": 0.2
            },
            "type": "scatter"
           }
          ],
          "scatter3d": [
           {
            "line": {
             "colorbar": {
              "outlinewidth": 0,
              "ticks": ""
             }
            },
            "marker": {
             "colorbar": {
              "outlinewidth": 0,
              "ticks": ""
             }
            },
            "type": "scatter3d"
           }
          ],
          "scattercarpet": [
           {
            "marker": {
             "colorbar": {
              "outlinewidth": 0,
              "ticks": ""
             }
            },
            "type": "scattercarpet"
           }
          ],
          "scattergeo": [
           {
            "marker": {
             "colorbar": {
              "outlinewidth": 0,
              "ticks": ""
             }
            },
            "type": "scattergeo"
           }
          ],
          "scattergl": [
           {
            "marker": {
             "colorbar": {
              "outlinewidth": 0,
              "ticks": ""
             }
            },
            "type": "scattergl"
           }
          ],
          "scattermapbox": [
           {
            "marker": {
             "colorbar": {
              "outlinewidth": 0,
              "ticks": ""
             }
            },
            "type": "scattermapbox"
           }
          ],
          "scatterpolar": [
           {
            "marker": {
             "colorbar": {
              "outlinewidth": 0,
              "ticks": ""
             }
            },
            "type": "scatterpolar"
           }
          ],
          "scatterpolargl": [
           {
            "marker": {
             "colorbar": {
              "outlinewidth": 0,
              "ticks": ""
             }
            },
            "type": "scatterpolargl"
           }
          ],
          "scatterternary": [
           {
            "marker": {
             "colorbar": {
              "outlinewidth": 0,
              "ticks": ""
             }
            },
            "type": "scatterternary"
           }
          ],
          "surface": [
           {
            "colorbar": {
             "outlinewidth": 0,
             "ticks": ""
            },
            "colorscale": [
             [
              0,
              "#0d0887"
             ],
             [
              0.1111111111111111,
              "#46039f"
             ],
             [
              0.2222222222222222,
              "#7201a8"
             ],
             [
              0.3333333333333333,
              "#9c179e"
             ],
             [
              0.4444444444444444,
              "#bd3786"
             ],
             [
              0.5555555555555556,
              "#d8576b"
             ],
             [
              0.6666666666666666,
              "#ed7953"
             ],
             [
              0.7777777777777778,
              "#fb9f3a"
             ],
             [
              0.8888888888888888,
              "#fdca26"
             ],
             [
              1,
              "#f0f921"
             ]
            ],
            "type": "surface"
           }
          ],
          "table": [
           {
            "cells": {
             "fill": {
              "color": "#EBF0F8"
             },
             "line": {
              "color": "white"
             }
            },
            "header": {
             "fill": {
              "color": "#C8D4E3"
             },
             "line": {
              "color": "white"
             }
            },
            "type": "table"
           }
          ]
         },
         "layout": {
          "annotationdefaults": {
           "arrowcolor": "#2a3f5f",
           "arrowhead": 0,
           "arrowwidth": 1
          },
          "autotypenumbers": "strict",
          "coloraxis": {
           "colorbar": {
            "outlinewidth": 0,
            "ticks": ""
           }
          },
          "colorscale": {
           "diverging": [
            [
             0,
             "#8e0152"
            ],
            [
             0.1,
             "#c51b7d"
            ],
            [
             0.2,
             "#de77ae"
            ],
            [
             0.3,
             "#f1b6da"
            ],
            [
             0.4,
             "#fde0ef"
            ],
            [
             0.5,
             "#f7f7f7"
            ],
            [
             0.6,
             "#e6f5d0"
            ],
            [
             0.7,
             "#b8e186"
            ],
            [
             0.8,
             "#7fbc41"
            ],
            [
             0.9,
             "#4d9221"
            ],
            [
             1,
             "#276419"
            ]
           ],
           "sequential": [
            [
             0,
             "#0d0887"
            ],
            [
             0.1111111111111111,
             "#46039f"
            ],
            [
             0.2222222222222222,
             "#7201a8"
            ],
            [
             0.3333333333333333,
             "#9c179e"
            ],
            [
             0.4444444444444444,
             "#bd3786"
            ],
            [
             0.5555555555555556,
             "#d8576b"
            ],
            [
             0.6666666666666666,
             "#ed7953"
            ],
            [
             0.7777777777777778,
             "#fb9f3a"
            ],
            [
             0.8888888888888888,
             "#fdca26"
            ],
            [
             1,
             "#f0f921"
            ]
           ],
           "sequentialminus": [
            [
             0,
             "#0d0887"
            ],
            [
             0.1111111111111111,
             "#46039f"
            ],
            [
             0.2222222222222222,
             "#7201a8"
            ],
            [
             0.3333333333333333,
             "#9c179e"
            ],
            [
             0.4444444444444444,
             "#bd3786"
            ],
            [
             0.5555555555555556,
             "#d8576b"
            ],
            [
             0.6666666666666666,
             "#ed7953"
            ],
            [
             0.7777777777777778,
             "#fb9f3a"
            ],
            [
             0.8888888888888888,
             "#fdca26"
            ],
            [
             1,
             "#f0f921"
            ]
           ]
          },
          "colorway": [
           "#636efa",
           "#EF553B",
           "#00cc96",
           "#ab63fa",
           "#FFA15A",
           "#19d3f3",
           "#FF6692",
           "#B6E880",
           "#FF97FF",
           "#FECB52"
          ],
          "font": {
           "color": "#2a3f5f"
          },
          "geo": {
           "bgcolor": "white",
           "lakecolor": "white",
           "landcolor": "#E5ECF6",
           "showlakes": true,
           "showland": true,
           "subunitcolor": "white"
          },
          "hoverlabel": {
           "align": "left"
          },
          "hovermode": "closest",
          "mapbox": {
           "style": "light"
          },
          "paper_bgcolor": "white",
          "plot_bgcolor": "#E5ECF6",
          "polar": {
           "angularaxis": {
            "gridcolor": "white",
            "linecolor": "white",
            "ticks": ""
           },
           "bgcolor": "#E5ECF6",
           "radialaxis": {
            "gridcolor": "white",
            "linecolor": "white",
            "ticks": ""
           }
          },
          "scene": {
           "xaxis": {
            "backgroundcolor": "#E5ECF6",
            "gridcolor": "white",
            "gridwidth": 2,
            "linecolor": "white",
            "showbackground": true,
            "ticks": "",
            "zerolinecolor": "white"
           },
           "yaxis": {
            "backgroundcolor": "#E5ECF6",
            "gridcolor": "white",
            "gridwidth": 2,
            "linecolor": "white",
            "showbackground": true,
            "ticks": "",
            "zerolinecolor": "white"
           },
           "zaxis": {
            "backgroundcolor": "#E5ECF6",
            "gridcolor": "white",
            "gridwidth": 2,
            "linecolor": "white",
            "showbackground": true,
            "ticks": "",
            "zerolinecolor": "white"
           }
          },
          "shapedefaults": {
           "line": {
            "color": "#2a3f5f"
           }
          },
          "ternary": {
           "aaxis": {
            "gridcolor": "white",
            "linecolor": "white",
            "ticks": ""
           },
           "baxis": {
            "gridcolor": "white",
            "linecolor": "white",
            "ticks": ""
           },
           "bgcolor": "#E5ECF6",
           "caxis": {
            "gridcolor": "white",
            "linecolor": "white",
            "ticks": ""
           }
          },
          "title": {
           "x": 0.05
          },
          "xaxis": {
           "automargin": true,
           "gridcolor": "white",
           "linecolor": "white",
           "ticks": "",
           "title": {
            "standoff": 15
           },
           "zerolinecolor": "white",
           "zerolinewidth": 2
          },
          "yaxis": {
           "automargin": true,
           "gridcolor": "white",
           "linecolor": "white",
           "ticks": "",
           "title": {
            "standoff": 15
           },
           "zerolinecolor": "white",
           "zerolinewidth": 2
          }
         }
        },
        "title": {
         "text": "Optimization History Plot"
        },
        "xaxis": {
         "title": {
          "text": "Trial"
         }
        },
        "yaxis": {
         "title": {
          "text": "Objective Value"
         }
        }
       }
      }
     },
     "metadata": {},
     "output_type": "display_data"
    }
   ],
   "source": [
    "optuna.visualization.plot_optimization_history(study)"
   ]
  }
 ],
 "metadata": {
  "kernelspec": {
   "display_name": "Python 3",
   "language": "python",
   "name": "python3"
  },
  "language_info": {
   "codemirror_mode": {
    "name": "ipython",
    "version": 3
   },
   "file_extension": ".py",
   "mimetype": "text/x-python",
   "name": "python",
   "nbconvert_exporter": "python",
   "pygments_lexer": "ipython3",
   "version": "3.10.4"
  }
 },
 "nbformat": 4,
 "nbformat_minor": 2
}
