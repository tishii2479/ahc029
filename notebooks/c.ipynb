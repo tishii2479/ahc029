{
 "cells": [
  {
   "cell_type": "code",
   "execution_count": 1,
   "metadata": {},
   "outputs": [],
   "source": [
    "import matplotlib.pyplot as plt\n",
    "import numpy as np\n",
    "import pandas as pd\n",
    "plt.style.use(\"ggplot\")"
   ]
  },
  {
   "cell_type": "code",
   "execution_count": 18,
   "metadata": {},
   "outputs": [
    {
     "data": {
      "text/html": [
       "<div>\n",
       "<style scoped>\n",
       "    .dataframe tbody tr th:only-of-type {\n",
       "        vertical-align: middle;\n",
       "    }\n",
       "\n",
       "    .dataframe tbody tr th {\n",
       "        vertical-align: top;\n",
       "    }\n",
       "\n",
       "    .dataframe thead th {\n",
       "        text-align: right;\n",
       "    }\n",
       "</style>\n",
       "<table border=\"1\" class=\"dataframe\">\n",
       "  <thead>\n",
       "    <tr style=\"text-align: right;\">\n",
       "      <th></th>\n",
       "      <th>input_file</th>\n",
       "      <th>solver_version</th>\n",
       "      <th>score</th>\n",
       "      <th>duration</th>\n",
       "      <th>invest_level</th>\n",
       "      <th>n</th>\n",
       "      <th>m</th>\n",
       "      <th>k</th>\n",
       "    </tr>\n",
       "  </thead>\n",
       "  <tbody>\n",
       "    <tr>\n",
       "      <th>0</th>\n",
       "      <td>tools/in/0000.txt</td>\n",
       "      <td>solver-2023-12-24_19:04:11</td>\n",
       "      <td>20652</td>\n",
       "      <td>0.0860</td>\n",
       "      <td>7</td>\n",
       "      <td>2</td>\n",
       "      <td>2</td>\n",
       "      <td>3</td>\n",
       "    </tr>\n",
       "    <tr>\n",
       "      <th>1</th>\n",
       "      <td>tools/in/0001.txt</td>\n",
       "      <td>solver-2023-12-24_19:04:11</td>\n",
       "      <td>6210</td>\n",
       "      <td>0.0965</td>\n",
       "      <td>4</td>\n",
       "      <td>7</td>\n",
       "      <td>8</td>\n",
       "      <td>2</td>\n",
       "    </tr>\n",
       "    <tr>\n",
       "      <th>2</th>\n",
       "      <td>tools/in/0002.txt</td>\n",
       "      <td>solver-2023-12-24_19:04:11</td>\n",
       "      <td>6235976</td>\n",
       "      <td>0.0914</td>\n",
       "      <td>14</td>\n",
       "      <td>7</td>\n",
       "      <td>6</td>\n",
       "      <td>5</td>\n",
       "    </tr>\n",
       "    <tr>\n",
       "      <th>3</th>\n",
       "      <td>tools/in/0003.txt</td>\n",
       "      <td>solver-2023-12-24_19:04:11</td>\n",
       "      <td>495164</td>\n",
       "      <td>0.0948</td>\n",
       "      <td>9</td>\n",
       "      <td>6</td>\n",
       "      <td>3</td>\n",
       "      <td>4</td>\n",
       "    </tr>\n",
       "    <tr>\n",
       "      <th>4</th>\n",
       "      <td>tools/in/0004.txt</td>\n",
       "      <td>solver-2023-12-24_19:04:11</td>\n",
       "      <td>40530</td>\n",
       "      <td>0.0851</td>\n",
       "      <td>6</td>\n",
       "      <td>3</td>\n",
       "      <td>2</td>\n",
       "      <td>3</td>\n",
       "    </tr>\n",
       "  </tbody>\n",
       "</table>\n",
       "</div>"
      ],
      "text/plain": [
       "          input_file              solver_version    score  duration  \\\n",
       "0  tools/in/0000.txt  solver-2023-12-24_19:04:11    20652    0.0860   \n",
       "1  tools/in/0001.txt  solver-2023-12-24_19:04:11     6210    0.0965   \n",
       "2  tools/in/0002.txt  solver-2023-12-24_19:04:11  6235976    0.0914   \n",
       "3  tools/in/0003.txt  solver-2023-12-24_19:04:11   495164    0.0948   \n",
       "4  tools/in/0004.txt  solver-2023-12-24_19:04:11    40530    0.0851   \n",
       "\n",
       "   invest_level  n  m  k  \n",
       "0             7  2  2  3  \n",
       "1             4  7  8  2  \n",
       "2            14  7  6  5  \n",
       "3             9  6  3  4  \n",
       "4             6  3  2  3  "
      ]
     },
     "execution_count": 18,
     "metadata": {},
     "output_type": "execute_result"
    }
   ],
   "source": [
    "df = pd.read_csv(\"../log/database.csv\")\n",
    "df.head()"
   ]
  },
  {
   "cell_type": "code",
   "execution_count": 19,
   "metadata": {},
   "outputs": [],
   "source": [
    "best_scores = df.groupby(\"input_file\")[\"score\"].max().rename(\"best_score\")\n",
    "df = pd.merge(df, best_scores, on=\"input_file\", how=\"left\")\n",
    "df[\"relative_score\"] = df[\"score\"] / df[\"best_score\"]"
   ]
  },
  {
   "cell_type": "code",
   "execution_count": 26,
   "metadata": {},
   "outputs": [
    {
     "data": {
      "text/plain": [
       "solver_version\n",
       "solver-2023-12-25_18:46:18    0.545315\n",
       "solver-2023-12-25_18:07:54    0.477815\n",
       "sub5                          0.477815\n",
       "solver-2023-12-25_18:05:42    0.477815\n",
       "solver-2023-12-25_18:21:35    0.477815\n",
       "solver-2023-12-25_18:06:31    0.456140\n",
       "solver-2023-12-25_17:12:36    0.453445\n",
       "solver-2023-12-25_17:28:35    0.453445\n",
       "solver-2023-12-25_17:32:05    0.453359\n",
       "solver-2023-12-25_18:05:18    0.449764\n",
       "sub4                          0.448769\n",
       "solver-2023-12-25_16:54:03    0.448769\n",
       "solver-2023-12-25_17:32:44    0.448606\n",
       "solver-2023-12-25_17:10:53    0.448582\n",
       "solver-2023-12-25_17:17:42    0.446317\n",
       "solver-2023-12-25_17:48:03    0.445269\n",
       "solver-2023-12-25_17:52:44    0.444903\n",
       "solver-2023-12-25_17:37:44    0.443541\n",
       "solver-2023-12-25_17:31:34    0.441905\n",
       "solver-2023-12-25_18:03:52    0.440940\n",
       "Name: relative_score, dtype: float64"
      ]
     },
     "execution_count": 26,
     "metadata": {},
     "output_type": "execute_result"
    }
   ],
   "source": [
    "df.groupby(\"solver_version\").relative_score.mean().sort_values(ascending=False)[:20]"
   ]
  }
 ],
 "metadata": {
  "kernelspec": {
   "display_name": "Python 3",
   "language": "python",
   "name": "python3"
  },
  "language_info": {
   "codemirror_mode": {
    "name": "ipython",
    "version": 3
   },
   "file_extension": ".py",
   "mimetype": "text/x-python",
   "name": "python",
   "nbconvert_exporter": "python",
   "pygments_lexer": "ipython3",
   "version": "3.10.4"
  }
 },
 "nbformat": 4,
 "nbformat_minor": 2
}
